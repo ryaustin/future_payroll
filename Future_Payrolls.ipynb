{
  "nbformat": 4,
  "nbformat_minor": 0,
  "metadata": {
    "colab": {
      "name": "Future Payrolls",
      "provenance": [],
      "collapsed_sections": [],
      "authorship_tag": "ABX9TyNe2pbybYLl8HHmWC+lqI69",
      "include_colab_link": true
    },
    "kernelspec": {
      "name": "python3",
      "display_name": "Python 3"
    },
    "language_info": {
      "name": "python"
    }
  },
  "cells": [
    {
      "cell_type": "markdown",
      "metadata": {
        "id": "view-in-github",
        "colab_type": "text"
      },
      "source": [
        "<a href=\"https://colab.research.google.com/github/ryaustin/future_payroll/blob/main/Future_Payrolls.ipynb\" target=\"_parent\"><img src=\"https://colab.research.google.com/assets/colab-badge.svg\" alt=\"Open In Colab\"/></a>"
      ]
    },
    {
      "cell_type": "markdown",
      "source": [
        "Let's determine all future paydates for year"
      ],
      "metadata": {
        "id": "QjvkRqZgsATB"
      }
    },
    {
      "cell_type": "code",
      "source": [
        "from datetime import datetime, date, timedelta\n",
        "import pdb\n",
        "\n",
        "\n",
        "company_name = 'Demo Company' #@param {type: \"string\"}\n",
        "start_date = '2021-01-04'  #@param {type: \"date\"}\n",
        "end_date = '2022-01-06'  #@param {type: \"date\"}\n",
        "# year_to_stop = 2022 #@param {type: \"number\"}\n",
        "pay_period = \"Bi-Weekly\"  #@param ['Weekly', 'Bi-Weekly']\n",
        "\n",
        "print(f'{company_name.upper()} PAYROLLS ({pay_period.upper()})')\n",
        "print('Start Date:', start_date)\n",
        "print('End Date:', end_date)\n",
        "\n",
        "payroll_start_date = datetime.strptime(start_date, '%Y-%m-%d')\n",
        "end_date = datetime.strptime(end_date, '%Y-%m-%d')\n",
        "payroll_end_date = payroll_start_date\n",
        "\n",
        "this_month = payroll_end_date.month  # initialize this_month var\n",
        "current_year = payroll_start_date.year\n",
        "\n",
        "current_date = payroll_start_date\n",
        "days_to_add = 14 if pay_period == 'Bi-Weekly' else 7\n",
        "payroll_run_count = 1\n",
        "nib_contribution_count_total = 0\n",
        "pay_period_multiplier = 1 if pay_period == 'Weekly' else 2\n",
        "payroll_end_date += timedelta(days=days_to_add-1)\n",
        "\n",
        "while not current_date > end_date:\n",
        "  monday_count = 0\n",
        "  month = this_month\n",
        "  print()\n",
        "  print(f'Month # {payroll_end_date.strftime(\"%B %Y\")}')\n",
        "  nib_contribution_count = 0\n",
        "  payrolls_ran_this_month = 0\n",
        "  while True:\n",
        "      for d_ord in range(payroll_start_date.toordinal(), payroll_end_date.toordinal()+1):\n",
        "        d = date.fromordinal(d_ord)\n",
        "        # print(d)\n",
        "        # print(d.weekday())\n",
        "        if (d.weekday() == 0):\n",
        "            monday_count += 1\n",
        "      print(f'#{payroll_run_count}: start: {payroll_start_date.strftime(\"%d-%m-%Y\")} - end: {payroll_end_date.strftime(\"%d-%m-%Y\")}')\n",
        "      payroll_start_date = payroll_end_date + timedelta(days=1)\n",
        "      payroll_end_date += timedelta(days=days_to_add)\n",
        "      current_date = payroll_end_date\n",
        "      payroll_run_count += 1\n",
        "      payrolls_ran_this_month +=1\n",
        "      next_pay = payroll_end_date + timedelta(days=days_to_add)\n",
        "      this_month = payroll_end_date.month\n",
        "      if not this_month == month or current_date > end_date:\n",
        "        nib_contribution_count = payrolls_ran_this_month * pay_period_multiplier\n",
        "        nib_contribution_count_total += nib_contribution_count\n",
        "        print(f'-- {payrolls_ran_this_month} Payrolls & {nib_contribution_count} NIB Contributions this month -- {nib_contribution_count_total} Total NIB Contributions')\n",
        "        print({monday_count}, 'Mondays captured')\n",
        "        break"
      ],
      "metadata": {
        "colab": {
          "base_uri": "https://localhost:8080/"
        },
        "id": "XJjr-RfMNSu-",
        "outputId": "1432a9da-bc06-4cfb-f208-c554aa862895"
      },
      "execution_count": null,
      "outputs": [
        {
          "output_type": "stream",
          "name": "stdout",
          "text": [
            "DEMO COMPANY PAYROLLS (BI-WEEKLY)\n",
            "Start Date: 2021-01-04\n",
            "End Date: 2022-01-06\n",
            "\n",
            "Month # January 2021\n",
            "#1: start: 04-01-2021 - end: 17-01-2021\n",
            "#2: start: 18-01-2021 - end: 31-01-2021\n",
            "-- 2 Payrolls & 4 NIB Contributions this month -- 4 Total NIB Contributions\n",
            "{4} Mondays captured\n",
            "\n",
            "Month # February 2021\n",
            "#3: start: 01-02-2021 - end: 14-02-2021\n",
            "#4: start: 15-02-2021 - end: 28-02-2021\n",
            "-- 2 Payrolls & 4 NIB Contributions this month -- 8 Total NIB Contributions\n",
            "{4} Mondays captured\n",
            "\n",
            "Month # March 2021\n",
            "#5: start: 01-03-2021 - end: 14-03-2021\n",
            "#6: start: 15-03-2021 - end: 28-03-2021\n",
            "-- 2 Payrolls & 4 NIB Contributions this month -- 12 Total NIB Contributions\n",
            "{4} Mondays captured\n",
            "\n",
            "Month # April 2021\n",
            "#7: start: 29-03-2021 - end: 11-04-2021\n",
            "#8: start: 12-04-2021 - end: 25-04-2021\n",
            "-- 2 Payrolls & 4 NIB Contributions this month -- 16 Total NIB Contributions\n",
            "{4} Mondays captured\n",
            "\n",
            "Month # May 2021\n",
            "#9: start: 26-04-2021 - end: 09-05-2021\n",
            "#10: start: 10-05-2021 - end: 23-05-2021\n",
            "-- 2 Payrolls & 4 NIB Contributions this month -- 20 Total NIB Contributions\n",
            "{4} Mondays captured\n",
            "\n",
            "Month # June 2021\n",
            "#11: start: 24-05-2021 - end: 06-06-2021\n",
            "#12: start: 07-06-2021 - end: 20-06-2021\n",
            "-- 2 Payrolls & 4 NIB Contributions this month -- 24 Total NIB Contributions\n",
            "{4} Mondays captured\n",
            "\n",
            "Month # July 2021\n",
            "#13: start: 21-06-2021 - end: 04-07-2021\n",
            "#14: start: 05-07-2021 - end: 18-07-2021\n",
            "-- 2 Payrolls & 4 NIB Contributions this month -- 28 Total NIB Contributions\n",
            "{4} Mondays captured\n",
            "\n",
            "Month # August 2021\n",
            "#15: start: 19-07-2021 - end: 01-08-2021\n",
            "#16: start: 02-08-2021 - end: 15-08-2021\n",
            "#17: start: 16-08-2021 - end: 29-08-2021\n",
            "-- 3 Payrolls & 6 NIB Contributions this month -- 34 Total NIB Contributions\n",
            "{6} Mondays captured\n",
            "\n",
            "Month # September 2021\n",
            "#18: start: 30-08-2021 - end: 12-09-2021\n",
            "#19: start: 13-09-2021 - end: 26-09-2021\n",
            "-- 2 Payrolls & 4 NIB Contributions this month -- 38 Total NIB Contributions\n",
            "{4} Mondays captured\n",
            "\n",
            "Month # October 2021\n",
            "#20: start: 27-09-2021 - end: 10-10-2021\n",
            "#21: start: 11-10-2021 - end: 24-10-2021\n",
            "-- 2 Payrolls & 4 NIB Contributions this month -- 42 Total NIB Contributions\n",
            "{4} Mondays captured\n",
            "\n",
            "Month # November 2021\n",
            "#22: start: 25-10-2021 - end: 07-11-2021\n",
            "#23: start: 08-11-2021 - end: 21-11-2021\n",
            "-- 2 Payrolls & 4 NIB Contributions this month -- 46 Total NIB Contributions\n",
            "{4} Mondays captured\n",
            "\n",
            "Month # December 2021\n",
            "#24: start: 22-11-2021 - end: 05-12-2021\n",
            "#25: start: 06-12-2021 - end: 19-12-2021\n",
            "-- 2 Payrolls & 4 NIB Contributions this month -- 50 Total NIB Contributions\n",
            "{4} Mondays captured\n",
            "\n",
            "Month # January 2022\n",
            "#26: start: 20-12-2021 - end: 02-01-2022\n",
            "-- 1 Payrolls & 2 NIB Contributions this month -- 52 Total NIB Contributions\n",
            "{2} Mondays captured\n"
          ]
        }
      ]
    }
  ]
}